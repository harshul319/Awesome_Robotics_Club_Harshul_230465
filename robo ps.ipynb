{
 "cells": [
  {
   "cell_type": "code",
   "execution_count": 27,
   "metadata": {},
   "outputs": [],
   "source": [
    "import math\n",
    "def trm(n):\n",
    "    if n>1:\n",
    "        return 1\n",
    "    if n<-1:\n",
    "        return -1\n",
    "    return n\n",
    "def dist(x1,y1,x2,y2):\n",
    "    return math.sqrt((x1-x2)**2+(y1-y2)**2)\n",
    "def fabrik(x0=0,z0=23,x1=15,z1=23,x2=20,z2=23,x=10,z=20,l1=15,l2=5,maxiterations=50000,tolerance=0.00000001):\n",
    "    joint0 = [x0,z0]\n",
    "    joint1 = [x1,z1]\n",
    "    joint2 = [x2,z2]\n",
    "    reached = False\n",
    "    for i in range(maxiterations):\n",
    "        jointdash2 = [x,z]\n",
    "        dis = dist(x,z,joint1[0],joint1[1])\n",
    "        jointdash1 = [(((dis-l2)*x)+l2*joint1[0])/dis,(((dis-l2)*z)+l2*joint1[1])/dis]\n",
    "        dis = dist(joint0[0],joint0[1],joint1[0],joint1[1])\n",
    "        jointdash0 = [(((dis-l1)*joint1[0])+l1*joint0[0])/dis,(((dis-l1)*joint1[1])+l1*joint0[1])/dis]\n",
    "        joint0 = [x0,z0]\n",
    "        dis = dist(joint0[0],joint0[1],jointdash1[0],jointdash1[1])\n",
    "        joint1 = [((l1*jointdash1[0])+((dis-l1)*joint0[0]))/dis,((l1*jointdash1[1])+((dis-l1)*joint0[1]))/dis]\n",
    "        dis = dist(joint1[0],joint1[1],jointdash2[0],jointdash2[1])\n",
    "        joint2 = [((l2*jointdash2[0])+((dis-l2)*joint1[0]))/dis,((l2*jointdash2[1])+((dis-l2)*joint1[1]))/dis]\n",
    "\n",
    "        if(dist(joint2[0],joint2[1],x,z)<tolerance):\n",
    "            reached =True\n",
    "            print(\"reached at \"+str(i)+\"th iteration\")\n",
    "            break\n",
    "        if(i==maxiterations -1 and reached == False):\n",
    "            print(\"not reached\")\n",
    "    \n",
    "    if (joint1[0]-joint0[0])==0:\n",
    "        thetha1 = math.pi/2\n",
    "    else:\n",
    "        thetha1 = math.atan((joint1[1]-joint0[1])/(joint1[0]-joint0[0]))\n",
    "    if(x1==x0):\n",
    "        originalthetha1 = math.pi/2\n",
    "    else:\n",
    "        originalthetha1 = math.atan((z1-z0)/(x1-x0))\n",
    "    \n",
    "    deltathetha1 = -((thetha1-originalthetha1)*180)/math.pi\n",
    "    thetha2 = math.acos(trm(((joint2[0]-joint1[0])*(joint1[0]-joint0[0])+(joint2[1]-joint1[1])*(joint1[1]-joint0[1]))/(l1*l2)))\n",
    "    originalthetha2 = math.acos(trm(((x2-x1)*(x1-x0)+(z2-z1)*(z1-z0))/(l1*l2)))\n",
    "    deltathetha2 = ((thetha2-originalthetha2)*180)/math.pi\n",
    "    \n",
    "    return deltathetha1,deltathetha2\n",
    "def robo(xi,yi,zi):\n",
    "    \n",
    "\n",
    "    thetha1,thetha2 = fabrik(x=round(dist(0,0,xi,yi),6),z=zi)\n",
    "    \n",
    "    if xi==0 and yi>0:\n",
    "        basethetha = 90\n",
    "    elif xi==0 and yi<0:\n",
    "        basethetha = -90\n",
    "    elif xi==0 and yi==0:\n",
    "        basethetha = 0\n",
    "    else:\n",
    "        basethetha = (math.atan(yi/xi)*180)/(math.pi)\n",
    "    \n",
    "    print(\"move base motor by \"+str(basethetha)+\" degrees\")\n",
    "    print(\"move motor at joint1 by \"+str(-thetha1)+\" degrees\")\n",
    "    print(\"move motor at joint2 by \"+str(-thetha2)+\" degrees\")\n",
    "    return "
   ]
  },
  {
   "cell_type": "code",
   "execution_count": 52,
   "metadata": {},
   "outputs": [
    {
     "name": "stdout",
     "output_type": "stream",
     "text": [
      "reached at 3th iteration\n",
      "move base motor by 0.0 degrees\n",
      "move motor at joint1 by 3.8221276068963617 degrees\n",
      "move motor at joint2 by -93.43981276720731 degrees\n"
     ]
    }
   ],
   "source": [
    "robo(15,0,19)"
   ]
  },
  {
   "cell_type": "code",
   "execution_count": null,
   "metadata": {},
   "outputs": [],
   "source": []
  }
 ],
 "metadata": {
  "kernelspec": {
   "display_name": "Python 3",
   "language": "python",
   "name": "python3"
  },
  "language_info": {
   "codemirror_mode": {
    "name": "ipython",
    "version": 3
   },
   "file_extension": ".py",
   "mimetype": "text/x-python",
   "name": "python",
   "nbconvert_exporter": "python",
   "pygments_lexer": "ipython3",
   "version": "3.10.10"
  }
 },
 "nbformat": 4,
 "nbformat_minor": 2
}
